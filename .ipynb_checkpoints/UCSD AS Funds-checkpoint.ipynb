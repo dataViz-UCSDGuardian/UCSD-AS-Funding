{
 "cells": [
  {
   "cell_type": "code",
   "execution_count": 7,
   "metadata": {
    "collapsed": false
   },
   "outputs": [],
   "source": [
    "import pandas as pd\n",
    "import cufflinks as cf\n",
    "import plotly.plotly as py\n",
    "\n",
    "py.sign_in('msheker', 'hwwqnp5rf8')"
   ]
  },
  {
   "cell_type": "code",
   "execution_count": 14,
   "metadata": {
    "collapsed": false,
    "scrolled": true
   },
   "outputs": [
    {
     "data": {
      "text/html": [
       "<div>\n",
       "<table border=\"1\" class=\"dataframe\">\n",
       "  <thead>\n",
       "    <tr style=\"text-align: right;\">\n",
       "      <th></th>\n",
       "      <th>Section</th>\n",
       "      <th>Amount</th>\n",
       "    </tr>\n",
       "  </thead>\n",
       "  <tbody>\n",
       "    <tr>\n",
       "      <th>0</th>\n",
       "      <td>Referendum</td>\n",
       "      <td>1226780.48</td>\n",
       "    </tr>\n",
       "    <tr>\n",
       "      <th>1</th>\n",
       "      <td>Return to Aid</td>\n",
       "      <td>1031367.60</td>\n",
       "    </tr>\n",
       "    <tr>\n",
       "      <th>2</th>\n",
       "      <td>Career Employees</td>\n",
       "      <td>694793.00</td>\n",
       "    </tr>\n",
       "    <tr>\n",
       "      <th>3</th>\n",
       "      <td>Office of the President</td>\n",
       "      <td>79000.00</td>\n",
       "    </tr>\n",
       "    <tr>\n",
       "      <th>4</th>\n",
       "      <td>Office of Campus Affairs</td>\n",
       "      <td>1128098.86</td>\n",
       "    </tr>\n",
       "    <tr>\n",
       "      <th>5</th>\n",
       "      <td>Office of Concerts and Events</td>\n",
       "      <td>1047200.00</td>\n",
       "    </tr>\n",
       "    <tr>\n",
       "      <th>6</th>\n",
       "      <td>Office of Finance and Resources</td>\n",
       "      <td>630862.09</td>\n",
       "    </tr>\n",
       "    <tr>\n",
       "      <th>7</th>\n",
       "      <td>Office of External Affairs</td>\n",
       "      <td>107350.00</td>\n",
       "    </tr>\n",
       "    <tr>\n",
       "      <th>8</th>\n",
       "      <td>General</td>\n",
       "      <td>81794.02</td>\n",
       "    </tr>\n",
       "    <tr>\n",
       "      <th>9</th>\n",
       "      <td>Administration</td>\n",
       "      <td>151279.67</td>\n",
       "    </tr>\n",
       "    <tr>\n",
       "      <th>10</th>\n",
       "      <td>Council and Senate Stipend</td>\n",
       "      <td>147657.33</td>\n",
       "    </tr>\n",
       "    <tr>\n",
       "      <th>11</th>\n",
       "      <td>Remaining Funds</td>\n",
       "      <td>6489.81</td>\n",
       "    </tr>\n",
       "  </tbody>\n",
       "</table>\n",
       "</div>"
      ],
      "text/plain": [
       "                            Section      Amount\n",
       "0                        Referendum  1226780.48\n",
       "1                     Return to Aid  1031367.60\n",
       "2                  Career Employees   694793.00\n",
       "3           Office of the President    79000.00\n",
       "4          Office of Campus Affairs  1128098.86\n",
       "5     Office of Concerts and Events  1047200.00\n",
       "6   Office of Finance and Resources   630862.09\n",
       "7        Office of External Affairs   107350.00\n",
       "8                           General    81794.02\n",
       "9                    Administration   151279.67\n",
       "10       Council and Senate Stipend   147657.33\n",
       "11                  Remaining Funds     6489.81"
      ]
     },
     "execution_count": 14,
     "metadata": {},
     "output_type": "execute_result"
    }
   ],
   "source": [
    "df = pd.read_csv(\"UCSD AS Funds 2016.csv\")\n",
    "\n",
    "#names = df[\"Section\"]\n",
    "#dfT = df.transpose()\n",
    "#dfT.columns = names\n",
    "#total = float(dfT[\"TOTAL FUNDS\"])\n",
    "#del dfT[\"TOTAL FUNDS\"]\n",
    "#for name in df.iterrows():\n",
    "    #df[\"Percent\"][name] = df[\"Amount\"][name] / total\n",
    "#df[\"Percent\"] = df[\"Amount\"]/total\n",
    "\n",
    "df = df.drop(df.index[12])\n",
    "df"
   ]
  },
  {
   "cell_type": "code",
   "execution_count": 20,
   "metadata": {
    "collapsed": false,
    "scrolled": false
   },
   "outputs": [
    {
     "data": {
      "text/html": [
       "<iframe id=\"igraph\" scrolling=\"no\" style=\"border:none;\" seamless=\"seamless\" src=\"https://plot.ly/~msheker/14.embed\" height=\"525px\" width=\"100%\"></iframe>"
      ],
      "text/plain": [
       "<plotly.tools.PlotlyDisplay object>"
      ]
     },
     "execution_count": 20,
     "metadata": {},
     "output_type": "execute_result"
    }
   ],
   "source": [
    "#set\n",
    "cf.set_config_file(world_readable=True,offline=False)\n",
    "pie=cf.datagen.pie(11)\n",
    "pie.head()\n",
    "\n",
    "#enter correct values\n",
    "pie[\"labels\"] = df[\"Section\"]\n",
    "pie['values'] = df[\"Amount\"]\n",
    "\n",
    "pie.iplot(kind='pie',labels='labels',values='values',colorscale='RdBu', textposition='outside',textinfo = \"value+percent\")"
   ]
  },
  {
   "cell_type": "code",
   "execution_count": null,
   "metadata": {
    "collapsed": true
   },
   "outputs": [],
   "source": []
  }
 ],
 "metadata": {
  "anaconda-cloud": {},
  "kernelspec": {
   "display_name": "Python [Root]",
   "language": "python",
   "name": "Python [Root]"
  },
  "language_info": {
   "codemirror_mode": {
    "name": "ipython",
    "version": 3
   },
   "file_extension": ".py",
   "mimetype": "text/x-python",
   "name": "python",
   "nbconvert_exporter": "python",
   "pygments_lexer": "ipython3",
   "version": "3.5.2"
  }
 },
 "nbformat": 4,
 "nbformat_minor": 0
}
